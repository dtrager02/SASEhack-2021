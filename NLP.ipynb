{
 "cells": [
  {
   "cell_type": "code",
   "execution_count": 58,
   "source": [
    "from sklearn.datasets import fetch_20newsgroups\r\n",
    "twenty_train = fetch_20newsgroups(subset='train',shuffle=False)\r\n",
    "\r\n",
    "twenty_train.data[0]"
   ],
   "outputs": [
    {
     "output_type": "execute_result",
     "data": {
      "text/plain": [
       "\"From: cubbie@garnet.berkeley.edu (                               )\\nSubject: Re: Cubs behind Marlins? How?\\nArticle-I.D.: agate.1pt592$f9a\\nOrganization: University of California, Berkeley\\nLines: 12\\nNNTP-Posting-Host: garnet.berkeley.edu\\n\\n\\ngajarsky@pilot.njin.net writes:\\n\\nmorgan and guzman will have era's 1 run higher than last year, and\\n the cubs will be idiots and not pitch harkey as much as hibbard.\\n castillo won't be good (i think he's a stud pitcher)\\n\\n       This season so far, Morgan and Guzman helped to lead the Cubs\\n       at top in ERA, even better than THE rotation at Atlanta.\\n       Cubs ERA at 0.056 while Braves at 0.059. We know it is early\\n       in the season, we Cubs fans have learned how to enjoy the\\n       short triumph while it is still there.\\n\""
      ]
     },
     "metadata": {},
     "execution_count": 58
    }
   ],
   "metadata": {}
  },
  {
   "cell_type": "code",
   "execution_count": null,
   "source": [],
   "outputs": [],
   "metadata": {}
  },
  {
   "cell_type": "code",
   "execution_count": 59,
   "source": [
    "#efficient version\r\n",
    "from sklearn.feature_extraction.text import CountVectorizer\r\n",
    "from sklearn.pipeline import Pipeline\r\n",
    "from sklearn.naive_bayes import MultinomialNB\r\n",
    "from sklearn.feature_extraction.text import TfidfTransformer\r\n",
    "from sklearn.linear_model import SGDClassifier\r\n",
    "text_clf = Pipeline([('vect',CountVectorizer()),\r\n",
    "                    ('tfidf',TfidfTransformer()),\r\n",
    "                    ('clf',MultinomialNB())])\r\n",
    "\r\n",
    "\r\n",
    "\r\n",
    "text_clf = text_clf.fit(twenty_train.data,twenty_train.target)"
   ],
   "outputs": [],
   "metadata": {}
  },
  {
   "cell_type": "markdown",
   "source": [
    "### Construct NLTK stemer"
   ],
   "metadata": {}
  },
  {
   "cell_type": "code",
   "execution_count": 60,
   "source": [
    "import nltk\r\n",
    "# nltk.download()\r\n",
    "from nltk.stem.snowball import SnowballStemmer\r\n",
    "stemmer = SnowballStemmer(\"english\", ignore_stopwords=True)\r\n",
    "class StemmedCountVectorizer(CountVectorizer):\r\n",
    "    def build_analyzer(self):\r\n",
    "        analyzer = super(StemmedCountVectorizer, self).build_analyzer()\r\n",
    "        return lambda doc: ([stemmer.stem(w) for w in analyzer(doc)])\r\n",
    "stemmed_count_vect = StemmedCountVectorizer(stop_words='english')"
   ],
   "outputs": [],
   "metadata": {}
  },
  {
   "cell_type": "markdown",
   "source": [
    "## Fully loaded Pipeline"
   ],
   "metadata": {}
  },
  {
   "cell_type": "code",
   "execution_count": 61,
   "source": [
    "text_clf_svm = Pipeline([('vect',stemmed_count_vect),\r\n",
    "                    ('tfidf',TfidfTransformer()),\r\n",
    "                    ('clf_svm',SGDClassifier(loss=\"hinge\",max_iter=1000,random_state=42))]) #can also pass MultiNomialNB\r\n",
    "\r\n",
    "text_clf_svm = text_clf_svm.fit(twenty_train.data,twenty_train.target)"
   ],
   "outputs": [],
   "metadata": {}
  },
  {
   "cell_type": "markdown",
   "source": [
    "### PRedictions before grid search"
   ],
   "metadata": {}
  },
  {
   "cell_type": "code",
   "execution_count": 62,
   "source": [
    "import numpy as np\r\n",
    "twenty_test = fetch_20newsgroups(subset='test',shuffle=True)\r\n",
    "predicted = text_clf_svm.predict(twenty_test.data)\r\n",
    "np.mean(predicted == twenty_test.target)"
   ],
   "outputs": [
    {
     "output_type": "execute_result",
     "data": {
      "text/plain": [
       "0.8502389803505045"
      ]
     },
     "metadata": {},
     "execution_count": 62
    }
   ],
   "metadata": {}
  },
  {
   "cell_type": "markdown",
   "source": [
    "### Refine with GridSearch"
   ],
   "metadata": {}
  },
  {
   "cell_type": "code",
   "execution_count": 64,
   "source": [
    "from sklearn.model_selection import GridSearchCV\r\n",
    "\"\"\"\r\n",
    "best params: default params\r\n",
    "{'clf_svm__alpha': 0.001,\r\n",
    " 'clf_svm__early_stopping': False,\r\n",
    " 'clf_svm__penalty': 'l2',\r\n",
    " 'vect__ngram_range': (1, 2)}\r\n",
    "\"\"\"\r\n",
    "params_svm= {\r\n",
    "    'vect__ngram_range': [(1, 1), (1, 2)],\r\n",
    "    'tfidf__use_idf':(True,False),\r\n",
    "    'clf_svm__penalty':['l2'],\r\n",
    "    'clf_svm__alpha':[.001,.0005],\r\n",
    "    'clf_svm__early_stopping':(False,)\r\n",
    "}\r\n",
    "\r\n",
    "gs_clf = GridSearchCV(text_clf_svm,params_svm,n_jobs=-1,verbose = 2)\r\n",
    "gs_clf = gs_clf.fit(twenty_train.data,twenty_train.target)\r\n",
    "gs_clf.best_params_"
   ],
   "outputs": [
    {
     "output_type": "stream",
     "name": "stdout",
     "text": [
      "Fitting 5 folds for each of 8 candidates, totalling 40 fits\n"
     ]
    }
   ],
   "metadata": {}
  },
  {
   "cell_type": "code",
   "execution_count": null,
   "source": [
    "gs_clf.best_score_"
   ],
   "outputs": [],
   "metadata": {}
  },
  {
   "cell_type": "code",
   "execution_count": null,
   "source": [
    "twenty_test = fetch_20newsgroups(subset='test',shuffle=True)\r\n",
    "predicted = gs_clf.predict(twenty_test.data)\r\n",
    "np.mean(predicted == twenty_test.target)"
   ],
   "outputs": [
    {
     "output_type": "execute_result",
     "data": {
      "text/plain": [
       "0.8311205523101434"
      ]
     },
     "metadata": {},
     "execution_count": 53
    }
   ],
   "metadata": {}
  },
  {
   "cell_type": "code",
   "execution_count": null,
   "source": [
    "import time\r\n",
    "import random\r\n",
    "count = 1\r\n",
    "start = time.time()\r\n",
    "for i in range(10**7):\r\n",
    "    count+=random.random()\r\n",
    "print(time.time()-start)"
   ],
   "outputs": [
    {
     "output_type": "stream",
     "name": "stdout",
     "text": [
      "1.0295655727386475\n"
     ]
    }
   ],
   "metadata": {}
  }
 ],
 "metadata": {
  "orig_nbformat": 4,
  "language_info": {
   "name": "python",
   "version": "3.9.7",
   "mimetype": "text/x-python",
   "codemirror_mode": {
    "name": "ipython",
    "version": 3
   },
   "pygments_lexer": "ipython3",
   "nbconvert_exporter": "python",
   "file_extension": ".py"
  },
  "kernelspec": {
   "name": "python3",
   "display_name": "Python 3.9.7 64-bit ('virtualenv': venv)"
  },
  "interpreter": {
   "hash": "a157a4ea8ad70b6841239df60a60de7d31c5d4afbfb39f414d46e223f8f55c78"
  }
 },
 "nbformat": 4,
 "nbformat_minor": 2
}