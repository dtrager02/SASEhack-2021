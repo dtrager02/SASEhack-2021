{
 "cells": [
  {
   "cell_type": "code",
   "execution_count": 2,
   "metadata": {},
   "outputs": [
    {
     "name": "stdout",
     "output_type": "stream",
     "text": [
      "{'data': ['I try and avoid this sort of conflict', 'Had a friend open up to me about his mental addiction to weed and how it was taking over his life and making him depressed', 'I saved a girl from suicide once. She was going to swallow a bunch of pills and I talked her out of it in a very calm, loving way.', 'i cant think of one really...i think i may have indirectly', 'Only really one friend who doesn\\'t fit into the any of the above categories. Her therapist calls it spiraling.\" Anyway she pretty much calls me any time she is frustrated by something with  her boyfriend to ask me if it\\'s logical or not. Before they would just fight and he would call her crazy. Now she asks me if it\\'s ok he didn\\'t say \"please\" when he said  \"hand me the remote.\"', 'a couple of years ago my friends was going to switch school because of low self esteem too. I helped him overcome that shit too', 'Roommate when he was going through death and loss of a gf. Did anything to get him out of his bedroom.', \"i've had a couple of friends (you could say more than friends) with quite severe depression/ emotional problems. i helped for a while but eventually both relationships started to suffer as a result of both our personal problems\", 'Listened to someone talk about relationship troubles. Offered some advice from personal experience.', 'I will always listen. I comforted my sister when she lost her virgity the same night she walked in on her boyfriend cutting himself, and then our parents found out she threw a house part. Simply bring supportive was my focus.', 'Took a week off work, packed up the car and picked up a friend who was on the verge of losing it and went camping/surfing for a week. His parents were a big part of the problem and being away from them and others and physical activity every day for a week. but more just being around helped i feel.', \"On the memorial anniversary of my friends father I was with him to give support and remind him that he's not alone.\", 'Anxious girlfriend always needs my help', 'Never', 'You as a mom', 'ex gf was a cutter/suicidal, got her out of her own issues while slowly dying inside.', 'I have helped advise friends who have faced circumstances similar to mine', \"I've helped friends out before\", 'A friend that is a girl and just talk to her tryin to make her feel better', 'expressing concern and openness to friends when they are dealing with troubles. letting them know they can fell open for dialog.', \"listening to girlfriend's problems\", 'Friend was thinking about suicide, after a few days I managed to talk her down.', 'Having gone through depression and anxiety myself, I understand the struggles and have a few personal methods to cope when stuff hits. Having this knowledge has allowed me to help several people on the internet as well as my other friends when they have faced similar issues and talk to me about them. I understand how important listening is and offer my experiences to help them get through what they face.', 'Sometimes my friends bring up issues they are having with themselves, and I feel that I give them good advice and make them feel adequate and normal. I just try to be kind and helpful and honest.', 'never i guess people dont see me as a guy they would go to', 'Last year, my best friend was diagnosed with anxiety disorder and depression. She tried to commit suicide. I tried my best to be there for her the entire time throughout her recovery.', \"Cleaning up my friend's campsite and slightly helping him while he was living all summer as an alcoholic in the Mt. Hood woods.\", 'i listen pretty damn well. better at that as apposed to telling my own story.', 'Helping a friend through dealing with his alcoholic mother.', \"I used to tutor homeless men at a shelter to help them obtain their GED's. They were all age 50+ and some of them were even reading at a first grade level.\", 'I am a high school teacher so almost everyday.', \"Friends often come to me to talk about the issues that they're facing in life.\", 'Summer camp, countless kids have the same issue. I tell them i how it is when you cant listen or are restless.', \"Haha. In eight grade, kid got rejected twice. Wanted her to sign his yearbook but he was too nervous. I told him she doesn't really care about rejecting him and she thinks no less of him. He did it.    Probably more, but that's what comes up off the top of my head.\", \"Don't have a specific example but just letting people know you're there if they want to talk.\", 'Some of my friends have gone through the same type of struggle I have been through. I let them know that they could talk to me about anything and that being honest with yourself even if the truth hurts is the best way to start to get back up.', \"Friend who had big addiction issues, ended up being completely isolated, skipped school, and had a very low self esteem. I convinced him to go see a doc together, and promised him that i would go through everything with him. He went to rehab for a few months and now he's clean. But the complete lack of support from his family, from school, changed him. I think it was too late when I helped him (he was like that for 5 months) and he'll never be the same as before.\", \"I've always been a good listener for people and I think a lot of people just want to be heard and not necessarily fixed. They just need to express themselves to relief their thoughts to others so they're not trapped so much within the confines of their own head.  I've always lent an ear for someone to speak to.\", \"One of my best friends was diagnosed with cancer and I did as much as I could for him during that time. I visited him almost every day when he was in treatment just so he didn't have to be alone or anything. When he came back to school I helped him get caught up with school work too.\", \"I don't think I'm qualified to be a serious resource for someone else.\", 'Many times for my one friend who tried hard drugs (cocaine) and was dealing with depression because of girls', \"A lot for my friends. When they have had girl problems, or have just been down in the dumps about life. I always try to look on the positive side of life, and I try to reflect that on my friends' lives as well.\", \"I'm the theripist of my friends, they always come to me\", 'Describe?    Nah', 'My brother went through the same struggles I did, after i found help I was able to set him on the path to healing.', 'Friend got dumped by girl he had been in a relationship in for 2 years. I stayed by his side until he stopped feeling bad about it. I was there for him.', 'I open myself to any friend in need of emotional support.', 'GF and I help her through a lot of shit because I myself have been through a lot of shit.', \"I had a friend that would go off about girls and get super depressed. He told me he was going to kill himself one night and I drove 1n hour and a half to go look for him. By then the cops had already taken him to the hospital but me and a friend went and hung out with him. Also been there to help try and talk him down. Another person I hadnt been friends with for years cause of some stuff called me out of the blue on thankgiving last year. I called back and got a hospital number so I knew something was up. Ended up being a kid who I was friends with years before but was a huge douche to me. He was in the psych ward for trying to kill himself. I got a hold of him and talked to him for a while. Whenever he would call I would answer and be there even though I still had the shit from years earlier on my mind. There are people that I might not want to be around but if it's a situation like this I'll be there for people. My goal or purpose in life that's sustained my survival is to help make other peoples lives a little bit better. Make people laugh when they're sad, help people out when nobody else will. Basically treat other humans even strangers with the respect and kindness of a friend. That's all people need sometime. Let people talk through their shit with me and offer helpful advice if I can. I'm still swimming in my own shit but that's enough to keep me going, keep that little light at the end of the tunnel switched on. Idk how long that will last but I'll be here till it flickers out.\", \"Sometimes I'll calm my friends down after bad stuff happens.\", 'I once acted as a resource for someone who was struggling in school, and I helped them with their schoolwork.', 'My friend was going through a period of intense depression and i made sure that i was always there for him.', 'I have talked though some major blows in my girlfriends life. She has had some tough times, and I helped her with them.', 'Talking to a friend over a break up.', 'I care about other people more than myself so I listen and help them through tough times', 'Over the internet a LOT of people write to me to talk about their problems. Its often girl related, I dont know, I guess it can be nice to rant to someone you dont know irl/someone who can look at the situation a little bit more objective? I think a lot of guys also feel that it can be hard to talk to girl friends irl about their innermost feelings sometimes, thats the feeling I get at least. My friend jokingly refers to me as an Agony Aunt\"', 'Friends sometimes come up to me and ask for advice,  I try and give it the best I possibly can', 'My friend dealt with anxiety and this desire for everything in her life to be perfect, she describes it as caring what happens to much, but either way I simply talked to her and when she would try and change the subject I would have to drag her back in due the fact that she didn\\'t want to talk about it, but in reality she wouldn\\'t get better unless i pulled her back into it and helped her through it. But how i helped was by basically talking to her, and giving her the advice she needed to hear, not the one she wanted to such as oh you\\'ll be ok  this will all blow over\" what i said was more along the lines of being so blunt that many may find it rude but for her and i it was essential to making any progress.\"\"y friend dealt with anxiety and this desire for everything in her life to be perfect  she describes it as caring what happens to much  but either way I simply talked to her and when \"', \"Simply being there as a friend for somebody who's struggling.\", \"I've had some friends come to me saying people or acquaintances they've known who have killed themselves try and find comfort with me because my best friend killed himself my junior year of high school so they've come to me hoping to find some answers or peace in the turmoil.\", 'People calling, talk some sense into them, maybe facebook chat..', 'Having self harmed in the past,  I shared my experience with a friend in hopes of swaying her from those actions.', 'Have worked through problems with friends', \"When my friend needed help when she was going through some tough stuff. I knew that she needed it but she wouldn't admit it. So I brought it up and initiated it and we talked about it and it really helped her.\", \"My sister has some pretty severe issues  with her mental health. I try to be there for her when she needs it and I'd like to think its helped her.\", 'Helped friends through stuff.', 'I helped encourage a friend to go to therapy, and often listened to their problem to let them know there was someone there for them.', \"I haven't really met anyone dealing with attention issues. So I haven't had a chance to help unfortunately.\", 'there are too many to remember specifically, but being as helpful and rational as possible (as well as just listening) with people that need it is a fairly common occurrence', 'one of my friends was feeling down, so he came over and talked it out while I listened and gave him some input.', 'never.', 'I have tried but am absolutely horrable at it and am way too blunt.', 'Ex girlfriend had depression and anxiety. I used to hold her and listen as she told me what was going on', \"Always. I don't judge people to much, and can listen well most of the time. So naturally people come to me with their problems.\", 'My grandmother went through some severe depression shortly after I had some difficulties. Using my personal experience to relate with her and share what I used to get better was helpful to comfort her.', \"Now that I've been through it, although i'm not even where I'd like to be, I'm extremely open about sharing my experience with others and helping friends going through similar situations. And PLEASE if you have any other questions about my situation don't hesitate to email me. I'm an open book and excited to see how many people you're going to help.\", \"when my best friends mom past away from od'ing when he was in grade 5\", 'As a camp counselor I provide stability in kids lives who may have troubled home situations.', 'My now girlfriend used to have serious addiction troubles before we started dating and felt as though her addiction defined her as a person. She thought that all people saw when they looked at her was the addiction. I spent many nights with her talking and letting her vent. I was one of the only people supporting her and she felt as though I could help because I had been in her spot.', \"The one person I ever talked to it was because we were both going through the same thing. Us talking together helped, it was important to realize you aren't alone\"], 'target': ['not_flagged', 'flagged', 'flagged', 'not_flagged', 'not_flagged', 'not_flagged', 'flagged', 'flagged', 'not_flagged', 'flagged', 'not_flagged', 'flagged', 'not_flagged', 'not_flagged', 'not_flagged', 'flagged', 'not_flagged', 'not_flagged', 'not_flagged', 'not_flagged', 'not_flagged', 'flagged', 'flagged', 'not_flagged', 'not_flagged', 'flagged', 'flagged', 'not_flagged', 'flagged', 'not_flagged', 'not_flagged', 'not_flagged', 'not_flagged', 'not_flagged', 'not_flagged', 'not_flagged', 'flagged', 'not_flagged', 'flagged', 'not_flagged', 'flagged', 'not_flagged', 'not_flagged', 'not_flagged', 'not_flagged', 'not_flagged', 'not_flagged', 'not_flagged', 'flagged', 'not_flagged', 'not_flagged', 'flagged', 'not_flagged', 'not_flagged', 'not_flagged', 'not_flagged', 'not_flagged', 'flagged', 'not_flagged', 'flagged', 'not_flagged', 'flagged', 'not_flagged', 'not_flagged', 'flagged', 'not_flagged', 'not_flagged', 'not_flagged', 'not_flagged', 'not_flagged', 'not_flagged', 'not_flagged', 'flagged', 'not_flagged', 'flagged', 'not_flagged', 'flagged', 'not_flagged', 'flagged', 'not_flagged']}\n"
     ]
    }
   ],
   "source": [
    "from convert import csv_to_dataset\n",
    "from sklearn.model_selection import train_test_split\n",
    "\n",
    "therapy = csv_to_dataset(\"Sheet_1.csv\",\"response_text\",\"class\")\n",
    "X_train, X_test, y_train, y_test = train_test_split(therapy[\"data\"], therapy[\"target\"], test_size=0.33, random_state=42)"
   ]
  },
  {
   "cell_type": "code",
   "execution_count": 3,
   "metadata": {},
   "outputs": [],
   "source": [
    "#efficient version\n",
    "from sklearn.feature_extraction.text import CountVectorizer\n",
    "from sklearn.pipeline import Pipeline\n",
    "from sklearn.naive_bayes import MultinomialNB\n",
    "from sklearn.feature_extraction.text import TfidfTransformer\n",
    "from sklearn.linear_model import SGDClassifier\n",
    "text_clf = Pipeline([('vect',CountVectorizer()),\n",
    "                    ('tfidf',TfidfTransformer()),\n",
    "                    ('clf',MultinomialNB())])\n",
    "\n",
    "\n",
    "\n",
    "text_clf = text_clf.fit(twenty_train.data,twenty_train.target)"
   ]
  },
  {
   "cell_type": "markdown",
   "metadata": {},
   "source": [
    "### Construct NLTK stemmer"
   ]
  },
  {
   "cell_type": "code",
   "execution_count": 4,
   "metadata": {},
   "outputs": [],
   "source": [
    "import nltk\n",
    "# nltk.download()\n",
    "from nltk.stem.snowball import SnowballStemmer\n",
    "from nltk.stem import WordNetLemmatizer\n",
    " \n",
    "lemmatizer = WordNetLemmatizer()\n",
    "stemmer = SnowballStemmer(\"english\", ignore_stopwords=True)\n",
    "class StemmedCountVectorizer(CountVectorizer):\n",
    "    def build_analyzer(self):\n",
    "        analyzer = super(StemmedCountVectorizer, self).build_analyzer()\n",
    "        return lambda doc: ([stemmer.stem(w) for w in analyzer(doc)])\n",
    "class LemmatizedCountVectorizer(CountVectorizer):\n",
    "    def build_analyzer(self):\n",
    "        analyzer = super(LemmatizedCountVectorizer, self).build_analyzer()\n",
    "        return lambda doc: ([lemmatizer.lemmatize(w) for w in analyzer(doc)])\n",
    "stemmed_count_vect = StemmedCountVectorizer(stop_words='english',ngram_range=(1,2))\n",
    "lemmatized_count_vect = LemmatizedCountVectorizer(ngram_range=(1,2))"
   ]
  },
  {
   "cell_type": "markdown",
   "metadata": {},
   "source": [
    "## Fully loaded Pipeline"
   ]
  },
  {
   "cell_type": "code",
   "execution_count": 22,
   "metadata": {},
   "outputs": [],
   "source": [
    "text_clf_svm = Pipeline([('vect',lemmatized_count_vect), # could also be stemmed, lemmatized is marginally better\n",
    "                    ('tfidf',TfidfTransformer(use_idf=True)),\n",
    "                    ('clf_svm',SGDClassifier(loss=\"hinge\",alpha=0.0001,random_state=42)),\n",
    "                   # ('clf_svm',MultinomialNB()) #can also pass MultiNomialNB\n",
    "                    ])\n",
    "text_clf_svm = text_clf_svm.fit(X_train,y_train)"
   ]
  },
  {
   "cell_type": "markdown",
   "metadata": {},
   "source": [
    "### PRedictions before grid search"
   ]
  },
  {
   "cell_type": "code",
   "execution_count": 23,
   "metadata": {},
   "outputs": [
    {
     "data": {
      "text/plain": [
       "0.7407407407407407"
      ]
     },
     "execution_count": 23,
     "metadata": {},
     "output_type": "execute_result"
    }
   ],
   "source": [
    "import numpy as np\n",
    "twenty_test = fetch_20newsgroups(subset='test',shuffle=True)\n",
    "predicted = text_clf_svm.predict(X_test)\n",
    "np.mean(predicted == y_test)"
   ]
  },
  {
   "cell_type": "markdown",
   "metadata": {},
   "source": [
    "### Refine with GridSearch"
   ]
  },
  {
   "cell_type": "code",
   "execution_count": 24,
   "metadata": {},
   "outputs": [
    {
     "name": "stdout",
     "output_type": "stream",
     "text": [
      "Fitting 5 folds for each of 12 candidates, totalling 60 fits\n"
     ]
    },
    {
     "data": {
      "text/plain": [
       "{'clf_svm__alpha': 0.001,\n",
       " 'clf_svm__penalty': 'l2',\n",
       " 'tfidf__use_idf': True,\n",
       " 'vect__ngram_range': (1, 2)}"
      ]
     },
     "execution_count": 24,
     "metadata": {},
     "output_type": "execute_result"
    }
   ],
   "source": [
    "from sklearn.model_selection import GridSearchCV\n",
    "\"\"\"\n",
    "best params: default params\n",
    "{'clf_svm__alpha': 0.001, #or .0005\n",
    " 'clf_svm__early_stopping': False,\n",
    " 'clf_svm__penalty': 'l2',\n",
    " 'vect__ngram_range': (1, 2)}\n",
    "\"\"\"\n",
    "params_svm= {\n",
    "    'vect__ngram_range': [(1, 1), (1, 2)],\n",
    "    'tfidf__use_idf':(True,False),\n",
    "    'clf_svm__penalty':['l2'],\n",
    "    'clf_svm__alpha':[0.001,.0001,.0005],\n",
    "}\n",
    "params_nb= {\n",
    "    'vect__ngram_range': [(1, 1), (1, 2)],\n",
    "    'tfidf__use_idf':(True,False),\n",
    "    'clf_svm__alpha':[1,.7,.5],\n",
    "}\n",
    "\n",
    "gs_clf = GridSearchCV(text_clf_svm,params_svm,n_jobs=-1,verbose = 2)\n",
    "gs_clf = gs_clf.fit(X_train,y_train)\n",
    "gs_clf.best_params_"
   ]
  },
  {
   "cell_type": "code",
   "execution_count": 25,
   "metadata": {},
   "outputs": [
    {
     "data": {
      "text/plain": [
       "0.8272727272727274"
      ]
     },
     "execution_count": 25,
     "metadata": {},
     "output_type": "execute_result"
    }
   ],
   "source": [
    "gs_clf.best_score_"
   ]
  },
  {
   "cell_type": "code",
   "execution_count": 26,
   "metadata": {},
   "outputs": [
    {
     "data": {
      "text/plain": [
       "0.6666666666666666"
      ]
     },
     "execution_count": 26,
     "metadata": {},
     "output_type": "execute_result"
    }
   ],
   "source": [
    "twenty_test = fetch_20newsgroups(subset='test',shuffle=True)\n",
    "predicted = gs_clf.predict(X_test)\n",
    "np.mean(predicted == y_test)"
   ]
  },
  {
   "cell_type": "code",
   "execution_count": 10,
   "metadata": {},
   "outputs": [
    {
     "name": "stdout",
     "output_type": "stream",
     "text": [
      "1.5169978141784668\n"
     ]
    }
   ],
   "source": [
    "import time\n",
    "import random\n",
    "count = 1\n",
    "start = time.time()\n",
    "for i in range(10**7):\n",
    "    count+=random.random()\n",
    "print(time.time()-start)"
   ]
  }
 ],
 "metadata": {
  "interpreter": {
   "hash": "a157a4ea8ad70b6841239df60a60de7d31c5d4afbfb39f414d46e223f8f55c78"
  },
  "kernelspec": {
   "display_name": "Python 3.9.7 64-bit ('virtualenv': venv)",
   "name": "python3"
  },
  "language_info": {
   "codemirror_mode": {
    "name": "ipython",
    "version": 3
   },
   "file_extension": ".py",
   "mimetype": "text/x-python",
   "name": "python",
   "nbconvert_exporter": "python",
   "pygments_lexer": "ipython3",
   "version": "3.9.7"
  },
  "orig_nbformat": 4
 },
 "nbformat": 4,
 "nbformat_minor": 2
}
