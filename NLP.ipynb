{
 "cells": [
  {
   "cell_type": "code",
   "execution_count": 3,
   "source": [
    "from sklearn.datasets import fetch_20newsgroups\r\n",
    "twenty_train = fetch_20newsgroups(subset='train',shuffle=False)\r\n",
    "\r\n",
    "twenty_train.data[0]"
   ],
   "outputs": [
    {
     "output_type": "execute_result",
     "data": {
      "text/plain": [
       "'F'"
      ]
     },
     "metadata": {},
     "execution_count": 3
    }
   ],
   "metadata": {}
  },
  {
   "cell_type": "code",
   "execution_count": 35,
   "source": [],
   "outputs": [
    {
     "output_type": "execute_result",
     "data": {
      "text/plain": [
       "list"
      ]
     },
     "metadata": {},
     "execution_count": 35
    }
   ],
   "metadata": {}
  },
  {
   "cell_type": "code",
   "execution_count": 12,
   "source": [
    "#efficient version\r\n",
    "from sklearn.feature_extraction.text import CountVectorizer\r\n",
    "from sklearn.pipeline import Pipeline\r\n",
    "from sklearn.naive_bayes import MultinomialNB\r\n",
    "from sklearn.feature_extraction.text import TfidfTransformer\r\n",
    "from sklearn.linear_model import SGDClassifier\r\n",
    "text_clf = Pipeline([('vect',CountVectorizer()),\r\n",
    "                    ('tfidf',TfidfTransformer()),\r\n",
    "                    ('clf',MultinomialNB())])\r\n",
    "\r\n",
    "\r\n",
    "\r\n",
    "text_clf = text_clf.fit(twenty_train.data,twenty_train.target)"
   ],
   "outputs": [],
   "metadata": {}
  },
  {
   "cell_type": "code",
   "execution_count": null,
   "source": [
    "import nltk\r\n",
    "nltk.download()\r\n",
    "from nltk.stem.snowball import SnowballStemmer\r\n",
    "stemmer = SnowballStemmer(\"english\", ignore_stopwords=True)\r\n",
    "class StemmedCountVectorizer(CountVectorizer):\r\n",
    "    def build_analyzer(self):\r\n",
    "        analyzer = super(StemmedCountVectorizer, self).build_analyzer()\r\n",
    "        return lambda doc: ([stemmer.stem(w) for w in analyzer(doc)])\r\n",
    "stemmed_count_vect = StemmedCountVectorizer(stop_words='english')"
   ],
   "outputs": [],
   "metadata": {}
  },
  {
   "cell_type": "code",
   "execution_count": 43,
   "source": [
    "text_clf_svm = Pipeline([('vect',CountVectorizer()),\r\n",
    "                    ('tfidf',TfidfTransformer()),\r\n",
    "                    ('clf_svm',SGDClassifier(loss=\"hinge\",max_iter=1000,random_state=42))])\r\n",
    "\r\n",
    "text_clf_svm = text_clf_svm.fit(twenty_train.data,twenty_train.target)"
   ],
   "outputs": [],
   "metadata": {}
  },
  {
   "cell_type": "code",
   "execution_count": 44,
   "source": [
    "import numpy as np\r\n",
    "twenty_test = fetch_20newsgroups(subset='test',shuffle=True)\r\n",
    "predicted = text_clf_svm.predict(twenty_test.data)\r\n",
    "np.mean(predicted == twenty_test.target)"
   ],
   "outputs": [
    {
     "output_type": "execute_result",
     "data": {
      "text/plain": [
       "0.8518321826872013"
      ]
     },
     "metadata": {},
     "execution_count": 44
    }
   ],
   "metadata": {}
  },
  {
   "cell_type": "code",
   "execution_count": 26,
   "source": [
    "from sklearn.model_selection import GridSearchCV\r\n",
    "\"\"\"\r\n",
    "best params: default params\r\n",
    "\"\"\"\r\n",
    "params_svm= {\r\n",
    "    'vect__ngram_range': [(1, 1), (1, 2)],\r\n",
    "    'clf_svm__penalty':['l1','l2'],\r\n",
    "    'clf_svm__alpha':[.01,.001],\r\n",
    "    'clf_svm__early_stopping':(True,False)\r\n",
    "}\r\n",
    "\r\n",
    "gs_clf = GridSearchCV(text_clf_svm,params_svm,n_jobs=-1)\r\n",
    "gs_clf = gs_clf.fit(twenty_train.data,twenty_train.target)"
   ],
   "outputs": [],
   "metadata": {}
  },
  {
   "cell_type": "code",
   "execution_count": 27,
   "source": [
    "twenty_test = fetch_20newsgroups(subset='test',shuffle=True)\r\n",
    "predicted = gs_clf.predict(twenty_test.data)\r\n",
    "np.mean(predicted == twenty_test.target)"
   ],
   "outputs": [
    {
     "output_type": "execute_result",
     "data": {
      "text/plain": [
       "0.8518321826872013"
      ]
     },
     "metadata": {},
     "execution_count": 27
    }
   ],
   "metadata": {}
  }
 ],
 "metadata": {
  "orig_nbformat": 4,
  "language_info": {
   "name": "python",
   "version": "3.9.7",
   "mimetype": "text/x-python",
   "codemirror_mode": {
    "name": "ipython",
    "version": 3
   },
   "pygments_lexer": "ipython3",
   "nbconvert_exporter": "python",
   "file_extension": ".py"
  },
  "kernelspec": {
   "name": "python3",
   "display_name": "Python 3.9.7 64-bit ('virtualenv': venv)"
  },
  "interpreter": {
   "hash": "a157a4ea8ad70b6841239df60a60de7d31c5d4afbfb39f414d46e223f8f55c78"
  }
 },
 "nbformat": 4,
 "nbformat_minor": 2
}